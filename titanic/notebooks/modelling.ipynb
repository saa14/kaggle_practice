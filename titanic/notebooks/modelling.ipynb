{
 "cells": [
  {
   "cell_type": "code",
   "execution_count": 1,
   "metadata": {},
   "outputs": [],
   "source": [
    "import pandas as pd\n",
    "import numpy as np\n",
    "\n",
    "# classic machine learning\n",
    "from sklearn.linear_model import LogisticRegression\n",
    "from sklearn.svm import SVC, LinearSVC\n",
    "from sklearn.ensemble import RandomForestClassifier\n",
    "from sklearn.neighbors import KNeighborsClassifier\n",
    "from sklearn.naive_bayes import GaussianNB\n",
    "from sklearn.tree import DecisionTreeClassifier\n",
    "\n",
    "# neural nets\n"
   ]
  },
  {
   "cell_type": "code",
   "execution_count": 4,
   "metadata": {},
   "outputs": [],
   "source": [
    "train_df = pd.read_pickle('../data/train.pkl')\n",
    "test_df = pd.read_pickle('../data/test.pkl')"
   ]
  },
  {
   "cell_type": "code",
   "execution_count": 8,
   "metadata": {},
   "outputs": [],
   "source": [
    "X_train = train_df.drop(\"Survived\", axis=1)\n",
    "Y_train = train_df[\"Survived\"]\n",
    "X_test  = test_df.drop(\"PassengerId\", axis=1).copy()"
   ]
  },
  {
   "cell_type": "code",
   "execution_count": 9,
   "metadata": {},
   "outputs": [
    {
     "data": {
      "text/plain": [
       "((891, 8), (891L,), (418, 8))"
      ]
     },
     "execution_count": 9,
     "metadata": {},
     "output_type": "execute_result"
    }
   ],
   "source": [
    "X_train.shape, Y_train.shape, X_test.shape"
   ]
  },
  {
   "cell_type": "code",
   "execution_count": null,
   "metadata": {},
   "outputs": [],
   "source": [
    "accuracy = []"
   ]
  },
  {
   "cell_type": "code",
   "execution_count": 38,
   "metadata": {},
   "outputs": [],
   "source": [
    "def classicalPredictor(classifier, X_train, Y_train, X_test):\n",
    "    classifier.fit(X_train, Y_train)\n",
    "    classifier.predict(X_test)\n",
    "    score = classifier.score(X_train, Y_train)\n",
    "    accuracy.append(score)\n",
    "    print('{} --> {}'.format(classifier.__class__.__name__, score))"
   ]
  },
  {
   "cell_type": "code",
   "execution_count": 40,
   "metadata": {},
   "outputs": [
    {
     "name": "stdout",
     "output_type": "stream",
     "text": [
      "LogisticRegression --> 0.81593714927\n",
      "KNeighborsClassifier --> 0.847362514029\n",
      "GaussianNB --> 0.777777777778\n",
      "LinearSVC --> 0.810325476992\n",
      "DecisionTreeClassifier --> 0.866442199776\n",
      "RandomForestClassifier --> 0.866442199776\n"
     ]
    }
   ],
   "source": [
    "classicalPredictor(LogisticRegression(), X_train, Y_train, X_test)\n",
    "classicalPredictor(KNeighborsClassifier(n_neighbors=5), X_train, Y_train, X_test)\n",
    "classicalPredictor(GaussianNB(), X_train, Y_train, X_test)\n",
    "classicalPredictor(LinearSVC(), X_train, Y_train, X_test)\n",
    "classicalPredictor(DecisionTreeClassifier(), X_train, Y_train, X_test)\n",
    "classicalPredictor(RandomForestClassifier(n_estimators=100), X_train, Y_train, X_test)\n"
   ]
  },
  {
   "cell_type": "code",
   "execution_count": null,
   "metadata": {},
   "outputs": [],
   "source": []
  }
 ],
 "metadata": {
  "kernelspec": {
   "display_name": "Python 2",
   "language": "python",
   "name": "python2"
  },
  "language_info": {
   "codemirror_mode": {
    "name": "ipython",
    "version": 2
   },
   "file_extension": ".py",
   "mimetype": "text/x-python",
   "name": "python",
   "nbconvert_exporter": "python",
   "pygments_lexer": "ipython2",
   "version": "2.7.14"
  }
 },
 "nbformat": 4,
 "nbformat_minor": 2
}
